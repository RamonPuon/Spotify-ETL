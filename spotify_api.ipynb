{
 "cells": [
  {
   "cell_type": "code",
   "execution_count": 1,
   "metadata": {},
   "outputs": [],
   "source": [
    "import secret_id\n",
    "import spotipy\n",
    "from spotipy.oauth2 import SpotifyClientCredentials"
   ]
  },
  {
   "cell_type": "code",
   "execution_count": 2,
   "metadata": {},
   "outputs": [],
   "source": [
    "client_credentials_manager = SpotifyClientCredentials(client_id=secret_id.CLIENT_ID, client_secret=secret_id.CLIENT_SECRET)"
   ]
  },
  {
   "cell_type": "code",
   "execution_count": 3,
   "metadata": {},
   "outputs": [],
   "source": [
    "sp = spotipy.Spotify(client_credentials_manager=client_credentials_manager)"
   ]
  },
  {
   "cell_type": "code",
   "execution_count": 4,
   "metadata": {},
   "outputs": [],
   "source": [
    "playlist_link = \"https://open.spotify.com/playlist/37i9dQZEVXbNG2KDcFcKOF\""
   ]
  },
  {
   "cell_type": "code",
   "execution_count": 5,
   "metadata": {},
   "outputs": [],
   "source": [
    "playlist_uri = playlist_link.split(\"/\")[-1]"
   ]
  },
  {
   "cell_type": "code",
   "execution_count": 6,
   "metadata": {},
   "outputs": [],
   "source": [
    "data = sp.playlist_tracks(playlist_link)"
   ]
  },
  {
   "cell_type": "code",
   "execution_count": 14,
   "metadata": {},
   "outputs": [
    {
     "data": {
      "text/plain": [
       "'53985D8g3JcGBoULSOYYKX'"
      ]
     },
     "execution_count": 14,
     "metadata": {},
     "output_type": "execute_result"
    }
   ],
   "source": [
    "data[\"items\"][0][\"track\"]['album']['id']\n"
   ]
  },
  {
   "cell_type": "code",
   "execution_count": 15,
   "metadata": {},
   "outputs": [
    {
     "data": {
      "text/plain": [
       "'Seven (feat. Latto)'"
      ]
     },
     "execution_count": 15,
     "metadata": {},
     "output_type": "execute_result"
    }
   ],
   "source": [
    "data[\"items\"][0][\"track\"]['album']['name']"
   ]
  },
  {
   "cell_type": "code",
   "execution_count": 16,
   "metadata": {},
   "outputs": [
    {
     "data": {
      "text/plain": [
       "'2023-07-14'"
      ]
     },
     "execution_count": 16,
     "metadata": {},
     "output_type": "execute_result"
    }
   ],
   "source": [
    "data[\"items\"][0][\"track\"]['album']['release_date']"
   ]
  },
  {
   "cell_type": "code",
   "execution_count": 17,
   "metadata": {},
   "outputs": [
    {
     "data": {
      "text/plain": [
       "3"
      ]
     },
     "execution_count": 17,
     "metadata": {},
     "output_type": "execute_result"
    }
   ],
   "source": [
    "data[\"items\"][0][\"track\"]['album']['total_tracks']"
   ]
  },
  {
   "cell_type": "code",
   "execution_count": 19,
   "metadata": {},
   "outputs": [
    {
     "data": {
      "text/plain": [
       "'https://open.spotify.com/album/53985D8g3JcGBoULSOYYKX'"
      ]
     },
     "execution_count": 19,
     "metadata": {},
     "output_type": "execute_result"
    }
   ],
   "source": [
    "data[\"items\"][0][\"track\"]['album']['external_urls'][\"spotify\"]"
   ]
  },
  {
   "cell_type": "code",
   "execution_count": 21,
   "metadata": {},
   "outputs": [],
   "source": [
    "album_list = []\n",
    "for row in data[\"items\"]:\n",
    "    album_id = row[\"track\"]['album']['id']\n",
    "    album_name = row[\"track\"]['album']['name']\n",
    "    album_release_date = row[\"track\"]['album']['release_date']\n",
    "    album_total_tracks = row[\"track\"]['album']['total_tracks']\n",
    "    album_url = row[\"track\"]['album']['external_urls'][\"spotify\"]\n",
    "    album_elements = {'album_id':album_id, 'album_name':album_name, 'album_release_date':album_release_date, 'album_total_tracks':album_total_tracks, 'album_url':album_url}\n",
    "    album_list.append(album_elements)"
   ]
  },
  {
   "cell_type": "code",
   "execution_count": 22,
   "metadata": {},
   "outputs": [
    {
     "data": {
      "text/plain": [
       "[{'album_id': '53985D8g3JcGBoULSOYYKX',\n",
       "  'album_name': 'Seven (feat. Latto)',\n",
       "  'album_release_date': '2023-07-14',\n",
       "  'album_total_tracks': 3,\n",
       "  'album_url': 'https://open.spotify.com/album/53985D8g3JcGBoULSOYYKX'},\n",
       " {'album_id': '1bBez9PNvkJPW08bU7NYta',\n",
       "  'album_name': 'Scarlet',\n",
       "  'album_release_date': '2023-09-20',\n",
       "  'album_total_tracks': 15,\n",
       "  'album_url': 'https://open.spotify.com/album/1bBez9PNvkJPW08bU7NYta'},\n",
       " {'album_id': '3UOV8XvCwMKaATRNXrYCjN',\n",
       "  'album_name': 'greedy',\n",
       "  'album_release_date': '2023-09-15',\n",
       "  'album_total_tracks': 1,\n",
       "  'album_url': 'https://open.spotify.com/album/3UOV8XvCwMKaATRNXrYCjN'},\n",
       " {'album_id': '0fJ0beklzFwoBv01U8792s',\n",
       "  'album_name': '3D : The Remixes',\n",
       "  'album_release_date': '2023-10-02',\n",
       "  'album_total_tracks': 7,\n",
       "  'album_url': 'https://open.spotify.com/album/0fJ0beklzFwoBv01U8792s'},\n",
       " {'album_id': '4czdORdCWP9umpbhFXK2fW',\n",
       "  'album_name': 'For All The Dogs',\n",
       "  'album_release_date': '2023-10-06',\n",
       "  'album_total_tracks': 23,\n",
       "  'album_url': 'https://open.spotify.com/album/4czdORdCWP9umpbhFXK2fW'},\n",
       " {'album_id': '4czdORdCWP9umpbhFXK2fW',\n",
       "  'album_name': 'For All The Dogs',\n",
       "  'album_release_date': '2023-10-06',\n",
       "  'album_total_tracks': 23,\n",
       "  'album_url': 'https://open.spotify.com/album/4czdORdCWP9umpbhFXK2fW'},\n",
       " {'album_id': '66k6EGkPtYoN44anGIsEPW',\n",
       "  'album_name': 'Si No Estás',\n",
       "  'album_release_date': '2022-09-23',\n",
       "  'album_total_tracks': 1,\n",
       "  'album_url': 'https://open.spotify.com/album/66k6EGkPtYoN44anGIsEPW'},\n",
       " {'album_id': '18ogtNq9F7DmMkNYO6Xb4k',\n",
       "  'album_name': 'Strangers',\n",
       "  'album_release_date': '2023-09-01',\n",
       "  'album_total_tracks': 1,\n",
       "  'album_url': 'https://open.spotify.com/album/18ogtNq9F7DmMkNYO6Xb4k'},\n",
       " {'album_id': '1NAmidJlEaVgA3MpcPFYGq',\n",
       "  'album_name': 'Lover',\n",
       "  'album_release_date': '2019-08-23',\n",
       "  'album_total_tracks': 18,\n",
       "  'album_url': 'https://open.spotify.com/album/1NAmidJlEaVgA3MpcPFYGq'},\n",
       " {'album_id': '0FqAaUEyKCyUNFE1uQPZ7i',\n",
       "  'album_name': 'MAÑANA SERÁ BONITO (BICHOTA SEASON)',\n",
       "  'album_release_date': '2023-08-10',\n",
       "  'album_total_tracks': 9,\n",
       "  'album_url': 'https://open.spotify.com/album/0FqAaUEyKCyUNFE1uQPZ7i'},\n",
       " {'album_id': '4czdORdCWP9umpbhFXK2fW',\n",
       "  'album_name': 'For All The Dogs',\n",
       "  'album_release_date': '2023-10-06',\n",
       "  'album_total_tracks': 23,\n",
       "  'album_url': 'https://open.spotify.com/album/4czdORdCWP9umpbhFXK2fW'},\n",
       " {'album_id': '3puAvurwvtvi1rodndIPW8',\n",
       "  'album_name': 'LA VIDA ES UNA',\n",
       "  'album_release_date': '2023-03-23',\n",
       "  'album_total_tracks': 23,\n",
       "  'album_url': 'https://open.spotify.com/album/3puAvurwvtvi1rodndIPW8'},\n",
       " {'album_id': '5NwbUP5QkkMndzwJp9kkxr',\n",
       "  'album_name': 'Milo J: Bzrp Music Sessions, Vol. 57',\n",
       "  'album_release_date': '2023-10-03',\n",
       "  'album_total_tracks': 1,\n",
       "  'album_url': 'https://open.spotify.com/album/5NwbUP5QkkMndzwJp9kkxr'},\n",
       " {'album_id': '4czdORdCWP9umpbhFXK2fW',\n",
       "  'album_name': 'For All The Dogs',\n",
       "  'album_release_date': '2023-10-06',\n",
       "  'album_total_tracks': 23,\n",
       "  'album_url': 'https://open.spotify.com/album/4czdORdCWP9umpbhFXK2fW'},\n",
       " {'album_id': '4czdORdCWP9umpbhFXK2fW',\n",
       "  'album_name': 'For All The Dogs',\n",
       "  'album_release_date': '2023-10-06',\n",
       "  'album_total_tracks': 23,\n",
       "  'album_url': 'https://open.spotify.com/album/4czdORdCWP9umpbhFXK2fW'},\n",
       " {'album_id': '4czdORdCWP9umpbhFXK2fW',\n",
       "  'album_name': 'For All The Dogs',\n",
       "  'album_release_date': '2023-10-06',\n",
       "  'album_total_tracks': 23,\n",
       "  'album_url': 'https://open.spotify.com/album/4czdORdCWP9umpbhFXK2fW'},\n",
       " {'album_id': '2Cn1d2KgbkAqbZCJ1RzdkA',\n",
       "  'album_name': 'The Land Is Inhospitable and So Are We',\n",
       "  'album_release_date': '2023-09-15',\n",
       "  'album_total_tracks': 11,\n",
       "  'album_url': 'https://open.spotify.com/album/2Cn1d2KgbkAqbZCJ1RzdkA'},\n",
       " {'album_id': '72GhGik5fsSeFkgpjsllVj',\n",
       "  'album_name': 'UN PREVIEW',\n",
       "  'album_release_date': '2023-09-25',\n",
       "  'album_total_tracks': 1,\n",
       "  'album_url': 'https://open.spotify.com/album/72GhGik5fsSeFkgpjsllVj'},\n",
       " {'album_id': '1xJHno7SmdVtZAtXbdbDZp',\n",
       "  'album_name': 'GUTS',\n",
       "  'album_release_date': '2023-09-08',\n",
       "  'album_total_tracks': 12,\n",
       "  'album_url': 'https://open.spotify.com/album/1xJHno7SmdVtZAtXbdbDZp'},\n",
       " {'album_id': '4czdORdCWP9umpbhFXK2fW',\n",
       "  'album_name': 'For All The Dogs',\n",
       "  'album_release_date': '2023-10-06',\n",
       "  'album_total_tracks': 23,\n",
       "  'album_url': 'https://open.spotify.com/album/4czdORdCWP9umpbhFXK2fW'},\n",
       " {'album_id': '4czdORdCWP9umpbhFXK2fW',\n",
       "  'album_name': 'For All The Dogs',\n",
       "  'album_release_date': '2023-10-06',\n",
       "  'album_total_tracks': 23,\n",
       "  'album_url': 'https://open.spotify.com/album/4czdORdCWP9umpbhFXK2fW'},\n",
       " {'album_id': '78bpIziExqiI9qztvNFlQu',\n",
       "  'album_name': 'AM',\n",
       "  'album_release_date': '2013-09-09',\n",
       "  'album_total_tracks': 12,\n",
       "  'album_url': 'https://open.spotify.com/album/78bpIziExqiI9qztvNFlQu'},\n",
       " {'album_id': '07kam1Dks7GIucbSelfvyX',\n",
       "  'album_name': 'Columbia',\n",
       "  'album_release_date': '2023-07-07',\n",
       "  'album_total_tracks': 1,\n",
       "  'album_url': 'https://open.spotify.com/album/07kam1Dks7GIucbSelfvyX'},\n",
       " {'album_id': '4jox3ip1I39DFC2B7R5qLH',\n",
       "  'album_name': 'GÉNESIS',\n",
       "  'album_release_date': '2023-06-29',\n",
       "  'album_total_tracks': 17,\n",
       "  'album_url': 'https://open.spotify.com/album/4jox3ip1I39DFC2B7R5qLH'},\n",
       " {'album_id': '5qmZefgh78fN3jsyPPlvuw',\n",
       "  'album_name': 'a Gift & a Curse',\n",
       "  'album_release_date': '2023-06-16',\n",
       "  'album_total_tracks': 15,\n",
       "  'album_url': 'https://open.spotify.com/album/5qmZefgh78fN3jsyPPlvuw'},\n",
       " {'album_id': '3AafSrFIbJPH6BJHiJm1Cd',\n",
       "  'album_name': 'What Was I Made For? [From The Motion Picture \"Barbie\"]',\n",
       "  'album_release_date': '2023-07-13',\n",
       "  'album_total_tracks': 1,\n",
       "  'album_url': 'https://open.spotify.com/album/3AafSrFIbJPH6BJHiJm1Cd'},\n",
       " {'album_id': '5cH7FqB7JD5q1tJXJ7FHYu',\n",
       "  'album_name': 'Dance The Night (From Barbie The Album)',\n",
       "  'album_release_date': '2023-05-25',\n",
       "  'album_total_tracks': 1,\n",
       "  'album_url': 'https://open.spotify.com/album/5cH7FqB7JD5q1tJXJ7FHYu'},\n",
       " {'album_id': '4czdORdCWP9umpbhFXK2fW',\n",
       "  'album_name': 'For All The Dogs',\n",
       "  'album_release_date': '2023-10-06',\n",
       "  'album_total_tracks': 23,\n",
       "  'album_url': 'https://open.spotify.com/album/4czdORdCWP9umpbhFXK2fW'},\n",
       " {'album_id': '4czdORdCWP9umpbhFXK2fW',\n",
       "  'album_name': 'For All The Dogs',\n",
       "  'album_release_date': '2023-10-06',\n",
       "  'album_total_tracks': 23,\n",
       "  'album_url': 'https://open.spotify.com/album/4czdORdCWP9umpbhFXK2fW'},\n",
       " {'album_id': '3Fk8yQvPlCHgwR2pNhEIRA',\n",
       "  'album_name': 'Don Juan',\n",
       "  'album_release_date': '2023-08-25',\n",
       "  'album_total_tracks': 25,\n",
       "  'album_url': 'https://open.spotify.com/album/3Fk8yQvPlCHgwR2pNhEIRA'},\n",
       " {'album_id': '6NcI39WPu4kY6Tul11nhSv',\n",
       "  'album_name': 'Daylight',\n",
       "  'album_release_date': '2023-04-14',\n",
       "  'album_total_tracks': 1,\n",
       "  'album_url': 'https://open.spotify.com/album/6NcI39WPu4kY6Tul11nhSv'},\n",
       " {'album_id': '4x6cjOcVz44aiLSOHCLKPd',\n",
       "  'album_name': 'Que Onda',\n",
       "  'album_release_date': '2023-08-30',\n",
       "  'album_total_tracks': 1,\n",
       "  'album_url': 'https://open.spotify.com/album/4x6cjOcVz44aiLSOHCLKPd'},\n",
       " {'album_id': '5MU0RmBSpoSxOPYBfcobDc',\n",
       "  'album_name': 'Prada',\n",
       "  'album_release_date': '2023-08-11',\n",
       "  'album_total_tracks': 1,\n",
       "  'album_url': 'https://open.spotify.com/album/5MU0RmBSpoSxOPYBfcobDc'},\n",
       " {'album_id': '5r36AJ6VOJtp00oxSkBZ5h',\n",
       "  'album_name': \"Harry's House\",\n",
       "  'album_release_date': '2022-05-20',\n",
       "  'album_total_tracks': 13,\n",
       "  'album_url': 'https://open.spotify.com/album/5r36AJ6VOJtp00oxSkBZ5h'},\n",
       " {'album_id': '4czdORdCWP9umpbhFXK2fW',\n",
       "  'album_name': 'For All The Dogs',\n",
       "  'album_release_date': '2023-10-06',\n",
       "  'album_total_tracks': 23,\n",
       "  'album_url': 'https://open.spotify.com/album/4czdORdCWP9umpbhFXK2fW'},\n",
       " {'album_id': '1nrVofqDRs7cpWXJ49qTnP',\n",
       "  'album_name': 'SOS',\n",
       "  'album_release_date': '2022-12-08',\n",
       "  'album_total_tracks': 23,\n",
       "  'album_url': 'https://open.spotify.com/album/1nrVofqDRs7cpWXJ49qTnP'},\n",
       " {'album_id': '2ODvWsOgouMbaA5xf0RkJe',\n",
       "  'album_name': 'Starboy',\n",
       "  'album_release_date': '2016-11-25',\n",
       "  'album_total_tracks': 18,\n",
       "  'album_url': 'https://open.spotify.com/album/2ODvWsOgouMbaA5xf0RkJe'},\n",
       " {'album_id': '4czdORdCWP9umpbhFXK2fW',\n",
       "  'album_name': 'For All The Dogs',\n",
       "  'album_release_date': '2023-10-06',\n",
       "  'album_total_tracks': 23,\n",
       "  'album_url': 'https://open.spotify.com/album/4czdORdCWP9umpbhFXK2fW'},\n",
       " {'album_id': '22sXXkKgjEuawIFL1e1tRw',\n",
       "  'album_name': 'Water',\n",
       "  'album_release_date': '2023-07-28',\n",
       "  'album_total_tracks': 1,\n",
       "  'album_url': 'https://open.spotify.com/album/22sXXkKgjEuawIFL1e1tRw'},\n",
       " {'album_id': '6PbnGueEO6LGodPfvNldYf',\n",
       "  'album_name': 'Zach Bryan',\n",
       "  'album_release_date': '2023-08-25',\n",
       "  'album_total_tracks': 16,\n",
       "  'album_url': 'https://open.spotify.com/album/6PbnGueEO6LGodPfvNldYf'},\n",
       " {'album_id': '3WLJmMZUeDOuERFAk1Mxs6',\n",
       "  'album_name': 'Jawan',\n",
       "  'album_release_date': '2023-09-05',\n",
       "  'album_total_tracks': 7,\n",
       "  'album_url': 'https://open.spotify.com/album/3WLJmMZUeDOuERFAk1Mxs6'},\n",
       " {'album_id': '4NMv3cMkDwkkR6EdLloQDB',\n",
       "  'album_name': 'en dormir sin Madrid',\n",
       "  'album_release_date': '2023-10-04',\n",
       "  'album_total_tracks': 5,\n",
       "  'album_url': 'https://open.spotify.com/album/4NMv3cMkDwkkR6EdLloQDB'},\n",
       " {'album_id': '7ixOAT89NSsgUITYc5ByB5',\n",
       "  'album_name': 'Layover',\n",
       "  'album_release_date': '2023-09-08',\n",
       "  'album_total_tracks': 6,\n",
       "  'album_url': 'https://open.spotify.com/album/7ixOAT89NSsgUITYc5ByB5'},\n",
       " {'album_id': '1xJHno7SmdVtZAtXbdbDZp',\n",
       "  'album_name': 'GUTS',\n",
       "  'album_release_date': '2023-09-08',\n",
       "  'album_total_tracks': 12,\n",
       "  'album_url': 'https://open.spotify.com/album/1xJHno7SmdVtZAtXbdbDZp'},\n",
       " {'album_id': '2QJmrSgbdM35R67eoGQo4j',\n",
       "  'album_name': '1989',\n",
       "  'album_release_date': '2014-10-27',\n",
       "  'album_total_tracks': 13,\n",
       "  'album_url': 'https://open.spotify.com/album/2QJmrSgbdM35R67eoGQo4j'},\n",
       " {'album_id': '52PtAAvfi8ZGTRK5c700y4',\n",
       "  'album_name': 'Colmillo De Leche',\n",
       "  'album_release_date': '2023-05-19',\n",
       "  'album_total_tracks': 18,\n",
       "  'album_url': 'https://open.spotify.com/album/52PtAAvfi8ZGTRK5c700y4'},\n",
       " {'album_id': '4czdORdCWP9umpbhFXK2fW',\n",
       "  'album_name': 'For All The Dogs',\n",
       "  'album_release_date': '2023-10-06',\n",
       "  'album_total_tracks': 23,\n",
       "  'album_url': 'https://open.spotify.com/album/4czdORdCWP9umpbhFXK2fW'},\n",
       " {'album_id': '2QJmrSgbdM35R67eoGQo4j',\n",
       "  'album_name': '1989',\n",
       "  'album_release_date': '2014-10-27',\n",
       "  'album_total_tracks': 13,\n",
       "  'album_url': 'https://open.spotify.com/album/2QJmrSgbdM35R67eoGQo4j'},\n",
       " {'album_id': '4czdORdCWP9umpbhFXK2fW',\n",
       "  'album_name': 'For All The Dogs',\n",
       "  'album_release_date': '2023-10-06',\n",
       "  'album_total_tracks': 23,\n",
       "  'album_url': 'https://open.spotify.com/album/4czdORdCWP9umpbhFXK2fW'},\n",
       " {'album_id': '4AdZV63ycxFLF6Hcol0QnB',\n",
       "  'album_name': 'Starboy',\n",
       "  'album_release_date': '2016-11-24',\n",
       "  'album_total_tracks': 18,\n",
       "  'album_url': 'https://open.spotify.com/album/4AdZV63ycxFLF6Hcol0QnB'}]"
      ]
     },
     "execution_count": 22,
     "metadata": {},
     "output_type": "execute_result"
    }
   ],
   "source": [
    "album_list"
   ]
  },
  {
   "cell_type": "code",
   "execution_count": 28,
   "metadata": {},
   "outputs": [
    {
     "data": {
      "text/plain": [
       "[{'external_urls': {'spotify': 'https://open.spotify.com/artist/6HaGTQPmzraVmaVxvz6EUc'},\n",
       "  'href': 'https://api.spotify.com/v1/artists/6HaGTQPmzraVmaVxvz6EUc',\n",
       "  'id': '6HaGTQPmzraVmaVxvz6EUc',\n",
       "  'name': 'Jung Kook',\n",
       "  'type': 'artist',\n",
       "  'uri': 'spotify:artist:6HaGTQPmzraVmaVxvz6EUc'},\n",
       " {'external_urls': {'spotify': 'https://open.spotify.com/artist/3MdXrJWsbVzdn6fe5JYkSQ'},\n",
       "  'href': 'https://api.spotify.com/v1/artists/3MdXrJWsbVzdn6fe5JYkSQ',\n",
       "  'id': '3MdXrJWsbVzdn6fe5JYkSQ',\n",
       "  'name': 'Latto',\n",
       "  'type': 'artist',\n",
       "  'uri': 'spotify:artist:3MdXrJWsbVzdn6fe5JYkSQ'}]"
      ]
     },
     "execution_count": 28,
     "metadata": {},
     "output_type": "execute_result"
    }
   ],
   "source": [
    "data['items'][0]['track']['artists']"
   ]
  },
  {
   "cell_type": "code",
   "execution_count": 30,
   "metadata": {},
   "outputs": [
    {
     "name": "stdout",
     "output_type": "stream",
     "text": [
      "[{'external_urls': {'spotify': 'https://open.spotify.com/artist/6HaGTQPmzraVmaVxvz6EUc'}, 'href': 'https://api.spotify.com/v1/artists/6HaGTQPmzraVmaVxvz6EUc', 'id': '6HaGTQPmzraVmaVxvz6EUc', 'name': 'Jung Kook', 'type': 'artist', 'uri': 'spotify:artist:6HaGTQPmzraVmaVxvz6EUc'}, {'external_urls': {'spotify': 'https://open.spotify.com/artist/3MdXrJWsbVzdn6fe5JYkSQ'}, 'href': 'https://api.spotify.com/v1/artists/3MdXrJWsbVzdn6fe5JYkSQ', 'id': '3MdXrJWsbVzdn6fe5JYkSQ', 'name': 'Latto', 'type': 'artist', 'uri': 'spotify:artist:3MdXrJWsbVzdn6fe5JYkSQ'}]\n",
      "[{'external_urls': {'spotify': 'https://open.spotify.com/artist/5cj0lLjcoR7YOSnhnX0Po5'}, 'href': 'https://api.spotify.com/v1/artists/5cj0lLjcoR7YOSnhnX0Po5', 'id': '5cj0lLjcoR7YOSnhnX0Po5', 'name': 'Doja Cat', 'type': 'artist', 'uri': 'spotify:artist:5cj0lLjcoR7YOSnhnX0Po5'}]\n",
      "[{'external_urls': {'spotify': 'https://open.spotify.com/artist/45dkTj5sMRSjrmBSBeiHym'}, 'href': 'https://api.spotify.com/v1/artists/45dkTj5sMRSjrmBSBeiHym', 'id': '45dkTj5sMRSjrmBSBeiHym', 'name': 'Tate McRae', 'type': 'artist', 'uri': 'spotify:artist:45dkTj5sMRSjrmBSBeiHym'}]\n",
      "[{'external_urls': {'spotify': 'https://open.spotify.com/artist/6HaGTQPmzraVmaVxvz6EUc'}, 'href': 'https://api.spotify.com/v1/artists/6HaGTQPmzraVmaVxvz6EUc', 'id': '6HaGTQPmzraVmaVxvz6EUc', 'name': 'Jung Kook', 'type': 'artist', 'uri': 'spotify:artist:6HaGTQPmzraVmaVxvz6EUc'}, {'external_urls': {'spotify': 'https://open.spotify.com/artist/2LIk90788K0zvyj2JJVwkJ'}, 'href': 'https://api.spotify.com/v1/artists/2LIk90788K0zvyj2JJVwkJ', 'id': '2LIk90788K0zvyj2JJVwkJ', 'name': 'Jack Harlow', 'type': 'artist', 'uri': 'spotify:artist:2LIk90788K0zvyj2JJVwkJ'}]\n",
      "[{'external_urls': {'spotify': 'https://open.spotify.com/artist/3TVXtAsR1Inumwj472S9r4'}, 'href': 'https://api.spotify.com/v1/artists/3TVXtAsR1Inumwj472S9r4', 'id': '3TVXtAsR1Inumwj472S9r4', 'name': 'Drake', 'type': 'artist', 'uri': 'spotify:artist:3TVXtAsR1Inumwj472S9r4'}, {'external_urls': {'spotify': 'https://open.spotify.com/artist/3qiHUAX7zY4Qnjx8TNUzVx'}, 'href': 'https://api.spotify.com/v1/artists/3qiHUAX7zY4Qnjx8TNUzVx', 'id': '3qiHUAX7zY4Qnjx8TNUzVx', 'name': 'Yeat', 'type': 'artist', 'uri': 'spotify:artist:3qiHUAX7zY4Qnjx8TNUzVx'}]\n",
      "[{'external_urls': {'spotify': 'https://open.spotify.com/artist/3TVXtAsR1Inumwj472S9r4'}, 'href': 'https://api.spotify.com/v1/artists/3TVXtAsR1Inumwj472S9r4', 'id': '3TVXtAsR1Inumwj472S9r4', 'name': 'Drake', 'type': 'artist', 'uri': 'spotify:artist:3TVXtAsR1Inumwj472S9r4'}, {'external_urls': {'spotify': 'https://open.spotify.com/artist/6l3HvQ5sa6mXTsMTB19rO5'}, 'href': 'https://api.spotify.com/v1/artists/6l3HvQ5sa6mXTsMTB19rO5', 'id': '6l3HvQ5sa6mXTsMTB19rO5', 'name': 'J. Cole', 'type': 'artist', 'uri': 'spotify:artist:6l3HvQ5sa6mXTsMTB19rO5'}]\n",
      "[{'external_urls': {'spotify': 'https://open.spotify.com/artist/0jbo7KFNMiIkfBR6ih0yhm'}, 'href': 'https://api.spotify.com/v1/artists/0jbo7KFNMiIkfBR6ih0yhm', 'id': '0jbo7KFNMiIkfBR6ih0yhm', 'name': 'iñigo quintero', 'type': 'artist', 'uri': 'spotify:artist:0jbo7KFNMiIkfBR6ih0yhm'}]\n",
      "[{'external_urls': {'spotify': 'https://open.spotify.com/artist/7uMDnSZyUYNBPLhPMNuaM2'}, 'href': 'https://api.spotify.com/v1/artists/7uMDnSZyUYNBPLhPMNuaM2', 'id': '7uMDnSZyUYNBPLhPMNuaM2', 'name': 'Kenya Grace', 'type': 'artist', 'uri': 'spotify:artist:7uMDnSZyUYNBPLhPMNuaM2'}]\n",
      "[{'external_urls': {'spotify': 'https://open.spotify.com/artist/06HL4z0CvFAxyc27GXpf02'}, 'href': 'https://api.spotify.com/v1/artists/06HL4z0CvFAxyc27GXpf02', 'id': '06HL4z0CvFAxyc27GXpf02', 'name': 'Taylor Swift', 'type': 'artist', 'uri': 'spotify:artist:06HL4z0CvFAxyc27GXpf02'}]\n",
      "[{'external_urls': {'spotify': 'https://open.spotify.com/artist/790FomKkXshlbRYZFtlgla'}, 'href': 'https://api.spotify.com/v1/artists/790FomKkXshlbRYZFtlgla', 'id': '790FomKkXshlbRYZFtlgla', 'name': 'KAROL G', 'type': 'artist', 'uri': 'spotify:artist:790FomKkXshlbRYZFtlgla'}, {'external_urls': {'spotify': 'https://open.spotify.com/artist/12GqGscKJx3aE4t07u7eVZ'}, 'href': 'https://api.spotify.com/v1/artists/12GqGscKJx3aE4t07u7eVZ', 'id': '12GqGscKJx3aE4t07u7eVZ', 'name': 'Peso Pluma', 'type': 'artist', 'uri': 'spotify:artist:12GqGscKJx3aE4t07u7eVZ'}]\n",
      "[{'external_urls': {'spotify': 'https://open.spotify.com/artist/3TVXtAsR1Inumwj472S9r4'}, 'href': 'https://api.spotify.com/v1/artists/3TVXtAsR1Inumwj472S9r4', 'id': '3TVXtAsR1Inumwj472S9r4', 'name': 'Drake', 'type': 'artist', 'uri': 'spotify:artist:3TVXtAsR1Inumwj472S9r4'}]\n",
      "[{'external_urls': {'spotify': 'https://open.spotify.com/artist/7iK8PXO48WeuP03g8YR51W'}, 'href': 'https://api.spotify.com/v1/artists/7iK8PXO48WeuP03g8YR51W', 'id': '7iK8PXO48WeuP03g8YR51W', 'name': 'Myke Towers', 'type': 'artist', 'uri': 'spotify:artist:7iK8PXO48WeuP03g8YR51W'}]\n",
      "[{'external_urls': {'spotify': 'https://open.spotify.com/artist/716NhGYqD1jl2wI1Qkgq36'}, 'href': 'https://api.spotify.com/v1/artists/716NhGYqD1jl2wI1Qkgq36', 'id': '716NhGYqD1jl2wI1Qkgq36', 'name': 'Bizarrap', 'type': 'artist', 'uri': 'spotify:artist:716NhGYqD1jl2wI1Qkgq36'}, {'external_urls': {'spotify': 'https://open.spotify.com/artist/19HM5j0ULGSmEoRcrSe5x3'}, 'href': 'https://api.spotify.com/v1/artists/19HM5j0ULGSmEoRcrSe5x3', 'id': '19HM5j0ULGSmEoRcrSe5x3', 'name': 'Milo j', 'type': 'artist', 'uri': 'spotify:artist:19HM5j0ULGSmEoRcrSe5x3'}]\n",
      "[{'external_urls': {'spotify': 'https://open.spotify.com/artist/3TVXtAsR1Inumwj472S9r4'}, 'href': 'https://api.spotify.com/v1/artists/3TVXtAsR1Inumwj472S9r4', 'id': '3TVXtAsR1Inumwj472S9r4', 'name': 'Drake', 'type': 'artist', 'uri': 'spotify:artist:3TVXtAsR1Inumwj472S9r4'}, {'external_urls': {'spotify': 'https://open.spotify.com/artist/4q3ewBCX7sLwd24euuV69X'}, 'href': 'https://api.spotify.com/v1/artists/4q3ewBCX7sLwd24euuV69X', 'id': '4q3ewBCX7sLwd24euuV69X', 'name': 'Bad Bunny', 'type': 'artist', 'uri': 'spotify:artist:4q3ewBCX7sLwd24euuV69X'}]\n",
      "[{'external_urls': {'spotify': 'https://open.spotify.com/artist/3TVXtAsR1Inumwj472S9r4'}, 'href': 'https://api.spotify.com/v1/artists/3TVXtAsR1Inumwj472S9r4', 'id': '3TVXtAsR1Inumwj472S9r4', 'name': 'Drake', 'type': 'artist', 'uri': 'spotify:artist:3TVXtAsR1Inumwj472S9r4'}, {'external_urls': {'spotify': 'https://open.spotify.com/artist/7tYKF4w9nC0nq9CsPZTHyP'}, 'href': 'https://api.spotify.com/v1/artists/7tYKF4w9nC0nq9CsPZTHyP', 'id': '7tYKF4w9nC0nq9CsPZTHyP', 'name': 'SZA', 'type': 'artist', 'uri': 'spotify:artist:7tYKF4w9nC0nq9CsPZTHyP'}]\n",
      "[{'external_urls': {'spotify': 'https://open.spotify.com/artist/3TVXtAsR1Inumwj472S9r4'}, 'href': 'https://api.spotify.com/v1/artists/3TVXtAsR1Inumwj472S9r4', 'id': '3TVXtAsR1Inumwj472S9r4', 'name': 'Drake', 'type': 'artist', 'uri': 'spotify:artist:3TVXtAsR1Inumwj472S9r4'}, {'external_urls': {'spotify': 'https://open.spotify.com/artist/1URnnhqYAYcrqrcwql10ft'}, 'href': 'https://api.spotify.com/v1/artists/1URnnhqYAYcrqrcwql10ft', 'id': '1URnnhqYAYcrqrcwql10ft', 'name': '21 Savage', 'type': 'artist', 'uri': 'spotify:artist:1URnnhqYAYcrqrcwql10ft'}]\n",
      "[{'external_urls': {'spotify': 'https://open.spotify.com/artist/2uYWxilOVlUdk4oV9DvwqK'}, 'href': 'https://api.spotify.com/v1/artists/2uYWxilOVlUdk4oV9DvwqK', 'id': '2uYWxilOVlUdk4oV9DvwqK', 'name': 'Mitski', 'type': 'artist', 'uri': 'spotify:artist:2uYWxilOVlUdk4oV9DvwqK'}]\n",
      "[{'external_urls': {'spotify': 'https://open.spotify.com/artist/4q3ewBCX7sLwd24euuV69X'}, 'href': 'https://api.spotify.com/v1/artists/4q3ewBCX7sLwd24euuV69X', 'id': '4q3ewBCX7sLwd24euuV69X', 'name': 'Bad Bunny', 'type': 'artist', 'uri': 'spotify:artist:4q3ewBCX7sLwd24euuV69X'}]\n",
      "[{'external_urls': {'spotify': 'https://open.spotify.com/artist/1McMsnEElThX1knmY4oliG'}, 'href': 'https://api.spotify.com/v1/artists/1McMsnEElThX1knmY4oliG', 'id': '1McMsnEElThX1knmY4oliG', 'name': 'Olivia Rodrigo', 'type': 'artist', 'uri': 'spotify:artist:1McMsnEElThX1knmY4oliG'}]\n",
      "[{'external_urls': {'spotify': 'https://open.spotify.com/artist/3TVXtAsR1Inumwj472S9r4'}, 'href': 'https://api.spotify.com/v1/artists/3TVXtAsR1Inumwj472S9r4', 'id': '3TVXtAsR1Inumwj472S9r4', 'name': 'Drake', 'type': 'artist', 'uri': 'spotify:artist:3TVXtAsR1Inumwj472S9r4'}]\n",
      "[{'external_urls': {'spotify': 'https://open.spotify.com/artist/3TVXtAsR1Inumwj472S9r4'}, 'href': 'https://api.spotify.com/v1/artists/3TVXtAsR1Inumwj472S9r4', 'id': '3TVXtAsR1Inumwj472S9r4', 'name': 'Drake', 'type': 'artist', 'uri': 'spotify:artist:3TVXtAsR1Inumwj472S9r4'}]\n",
      "[{'external_urls': {'spotify': 'https://open.spotify.com/artist/7Ln80lUS6He07XvHI8qqHH'}, 'href': 'https://api.spotify.com/v1/artists/7Ln80lUS6He07XvHI8qqHH', 'id': '7Ln80lUS6He07XvHI8qqHH', 'name': 'Arctic Monkeys', 'type': 'artist', 'uri': 'spotify:artist:7Ln80lUS6He07XvHI8qqHH'}]\n",
      "[{'external_urls': {'spotify': 'https://open.spotify.com/artist/52iwsT98xCoGgiGntTiR7K'}, 'href': 'https://api.spotify.com/v1/artists/52iwsT98xCoGgiGntTiR7K', 'id': '52iwsT98xCoGgiGntTiR7K', 'name': 'Quevedo', 'type': 'artist', 'uri': 'spotify:artist:52iwsT98xCoGgiGntTiR7K'}]\n",
      "[{'external_urls': {'spotify': 'https://open.spotify.com/artist/12GqGscKJx3aE4t07u7eVZ'}, 'href': 'https://api.spotify.com/v1/artists/12GqGscKJx3aE4t07u7eVZ', 'id': '12GqGscKJx3aE4t07u7eVZ', 'name': 'Peso Pluma', 'type': 'artist', 'uri': 'spotify:artist:12GqGscKJx3aE4t07u7eVZ'}, {'external_urls': {'spotify': 'https://open.spotify.com/artist/6Sbl0NT50roqWvy746MfVf'}, 'href': 'https://api.spotify.com/v1/artists/6Sbl0NT50roqWvy746MfVf', 'id': '6Sbl0NT50roqWvy746MfVf', 'name': 'Gabito Ballesteros', 'type': 'artist', 'uri': 'spotify:artist:6Sbl0NT50roqWvy746MfVf'}, {'external_urls': {'spotify': 'https://open.spotify.com/artist/7Gi6gjaWy3DxyilpF1a8Is'}, 'href': 'https://api.spotify.com/v1/artists/7Gi6gjaWy3DxyilpF1a8Is', 'id': '7Gi6gjaWy3DxyilpF1a8Is', 'name': 'Junior H', 'type': 'artist', 'uri': 'spotify:artist:7Gi6gjaWy3DxyilpF1a8Is'}]\n",
      "[{'external_urls': {'spotify': 'https://open.spotify.com/artist/2hlmm7s2ICUX0LVIhVFlZQ'}, 'href': 'https://api.spotify.com/v1/artists/2hlmm7s2ICUX0LVIhVFlZQ', 'id': '2hlmm7s2ICUX0LVIhVFlZQ', 'name': 'Gunna', 'type': 'artist', 'uri': 'spotify:artist:2hlmm7s2ICUX0LVIhVFlZQ'}]\n",
      "[{'external_urls': {'spotify': 'https://open.spotify.com/artist/6qqNVTkY8uBg9cP3Jd7DAH'}, 'href': 'https://api.spotify.com/v1/artists/6qqNVTkY8uBg9cP3Jd7DAH', 'id': '6qqNVTkY8uBg9cP3Jd7DAH', 'name': 'Billie Eilish', 'type': 'artist', 'uri': 'spotify:artist:6qqNVTkY8uBg9cP3Jd7DAH'}]\n",
      "[{'external_urls': {'spotify': 'https://open.spotify.com/artist/6M2wZ9GZgrQXHCFfjv46we'}, 'href': 'https://api.spotify.com/v1/artists/6M2wZ9GZgrQXHCFfjv46we', 'id': '6M2wZ9GZgrQXHCFfjv46we', 'name': 'Dua Lipa', 'type': 'artist', 'uri': 'spotify:artist:6M2wZ9GZgrQXHCFfjv46we'}]\n",
      "[{'external_urls': {'spotify': 'https://open.spotify.com/artist/3TVXtAsR1Inumwj472S9r4'}, 'href': 'https://api.spotify.com/v1/artists/3TVXtAsR1Inumwj472S9r4', 'id': '3TVXtAsR1Inumwj472S9r4', 'name': 'Drake', 'type': 'artist', 'uri': 'spotify:artist:3TVXtAsR1Inumwj472S9r4'}, {'external_urls': {'spotify': 'https://open.spotify.com/artist/3DbwFQlvLxRSi2uX8mf81A'}, 'href': 'https://api.spotify.com/v1/artists/3DbwFQlvLxRSi2uX8mf81A', 'id': '3DbwFQlvLxRSi2uX8mf81A', 'name': 'Sexyy Red', 'type': 'artist', 'uri': 'spotify:artist:3DbwFQlvLxRSi2uX8mf81A'}, {'external_urls': {'spotify': 'https://open.spotify.com/artist/7tYKF4w9nC0nq9CsPZTHyP'}, 'href': 'https://api.spotify.com/v1/artists/7tYKF4w9nC0nq9CsPZTHyP', 'id': '7tYKF4w9nC0nq9CsPZTHyP', 'name': 'SZA', 'type': 'artist', 'uri': 'spotify:artist:7tYKF4w9nC0nq9CsPZTHyP'}]\n",
      "[{'external_urls': {'spotify': 'https://open.spotify.com/artist/3TVXtAsR1Inumwj472S9r4'}, 'href': 'https://api.spotify.com/v1/artists/3TVXtAsR1Inumwj472S9r4', 'id': '3TVXtAsR1Inumwj472S9r4', 'name': 'Drake', 'type': 'artist', 'uri': 'spotify:artist:3TVXtAsR1Inumwj472S9r4'}, {'external_urls': {'spotify': 'https://open.spotify.com/artist/0fGcIStdT1OpFFhOC7Wp36'}, 'href': 'https://api.spotify.com/v1/artists/0fGcIStdT1OpFFhOC7Wp36', 'id': '0fGcIStdT1OpFFhOC7Wp36', 'name': 'Teezo Touchdown', 'type': 'artist', 'uri': 'spotify:artist:0fGcIStdT1OpFFhOC7Wp36'}]\n",
      "[{'external_urls': {'spotify': 'https://open.spotify.com/artist/1r4hJ1h58CWwUQe3MxPuau'}, 'href': 'https://api.spotify.com/v1/artists/1r4hJ1h58CWwUQe3MxPuau', 'id': '1r4hJ1h58CWwUQe3MxPuau', 'name': 'Maluma', 'type': 'artist', 'uri': 'spotify:artist:1r4hJ1h58CWwUQe3MxPuau'}, {'external_urls': {'spotify': 'https://open.spotify.com/artist/66ihevNkSYNzRAl44dx6jJ'}, 'href': 'https://api.spotify.com/v1/artists/66ihevNkSYNzRAl44dx6jJ', 'id': '66ihevNkSYNzRAl44dx6jJ', 'name': 'Carin Leon', 'type': 'artist', 'uri': 'spotify:artist:66ihevNkSYNzRAl44dx6jJ'}]\n",
      "[{'external_urls': {'spotify': 'https://open.spotify.com/artist/33NVpKoXjItPwUJTMZIOiY'}, 'href': 'https://api.spotify.com/v1/artists/33NVpKoXjItPwUJTMZIOiY', 'id': '33NVpKoXjItPwUJTMZIOiY', 'name': 'David Kushner', 'type': 'artist', 'uri': 'spotify:artist:33NVpKoXjItPwUJTMZIOiY'}]\n",
      "[{'external_urls': {'spotify': 'https://open.spotify.com/artist/6dLuQ5qXxIuWc5urxfIiZR'}, 'href': 'https://api.spotify.com/v1/artists/6dLuQ5qXxIuWc5urxfIiZR', 'id': '6dLuQ5qXxIuWc5urxfIiZR', 'name': 'Calle 24', 'type': 'artist', 'uri': 'spotify:artist:6dLuQ5qXxIuWc5urxfIiZR'}, {'external_urls': {'spotify': 'https://open.spotify.com/artist/2rmkQLzj0k4nZdQehOUByO'}, 'href': 'https://api.spotify.com/v1/artists/2rmkQLzj0k4nZdQehOUByO', 'id': '2rmkQLzj0k4nZdQehOUByO', 'name': 'Chino Pacas', 'type': 'artist', 'uri': 'spotify:artist:2rmkQLzj0k4nZdQehOUByO'}, {'external_urls': {'spotify': 'https://open.spotify.com/artist/0ys2OFYzWYB5hRDLCsBqxt'}, 'href': 'https://api.spotify.com/v1/artists/0ys2OFYzWYB5hRDLCsBqxt', 'id': '0ys2OFYzWYB5hRDLCsBqxt', 'name': 'Fuerza Regida', 'type': 'artist', 'uri': 'spotify:artist:0ys2OFYzWYB5hRDLCsBqxt'}]\n",
      "[{'external_urls': {'spotify': 'https://open.spotify.com/artist/5wCmhq5J2hPwL2r0eKurxn'}, 'href': 'https://api.spotify.com/v1/artists/5wCmhq5J2hPwL2r0eKurxn', 'id': '5wCmhq5J2hPwL2r0eKurxn', 'name': 'cassö', 'type': 'artist', 'uri': 'spotify:artist:5wCmhq5J2hPwL2r0eKurxn'}, {'external_urls': {'spotify': 'https://open.spotify.com/artist/5KKpBU5eC2tJDzf0wmlRp2'}, 'href': 'https://api.spotify.com/v1/artists/5KKpBU5eC2tJDzf0wmlRp2', 'id': '5KKpBU5eC2tJDzf0wmlRp2', 'name': 'RAYE', 'type': 'artist', 'uri': 'spotify:artist:5KKpBU5eC2tJDzf0wmlRp2'}, {'external_urls': {'spotify': 'https://open.spotify.com/artist/5VadK1havLhK1OpKYsXv9y'}, 'href': 'https://api.spotify.com/v1/artists/5VadK1havLhK1OpKYsXv9y', 'id': '5VadK1havLhK1OpKYsXv9y', 'name': 'D-Block Europe', 'type': 'artist', 'uri': 'spotify:artist:5VadK1havLhK1OpKYsXv9y'}]\n",
      "[{'external_urls': {'spotify': 'https://open.spotify.com/artist/6KImCVD70vtIoJWnq6nGn3'}, 'href': 'https://api.spotify.com/v1/artists/6KImCVD70vtIoJWnq6nGn3', 'id': '6KImCVD70vtIoJWnq6nGn3', 'name': 'Harry Styles', 'type': 'artist', 'uri': 'spotify:artist:6KImCVD70vtIoJWnq6nGn3'}]\n",
      "[{'external_urls': {'spotify': 'https://open.spotify.com/artist/3TVXtAsR1Inumwj472S9r4'}, 'href': 'https://api.spotify.com/v1/artists/3TVXtAsR1Inumwj472S9r4', 'id': '3TVXtAsR1Inumwj472S9r4', 'name': 'Drake', 'type': 'artist', 'uri': 'spotify:artist:3TVXtAsR1Inumwj472S9r4'}]\n",
      "[{'external_urls': {'spotify': 'https://open.spotify.com/artist/7tYKF4w9nC0nq9CsPZTHyP'}, 'href': 'https://api.spotify.com/v1/artists/7tYKF4w9nC0nq9CsPZTHyP', 'id': '7tYKF4w9nC0nq9CsPZTHyP', 'name': 'SZA', 'type': 'artist', 'uri': 'spotify:artist:7tYKF4w9nC0nq9CsPZTHyP'}]\n",
      "[{'external_urls': {'spotify': 'https://open.spotify.com/artist/1Xyo4u8uXC1ZmMpatF05PJ'}, 'href': 'https://api.spotify.com/v1/artists/1Xyo4u8uXC1ZmMpatF05PJ', 'id': '1Xyo4u8uXC1ZmMpatF05PJ', 'name': 'The Weeknd', 'type': 'artist', 'uri': 'spotify:artist:1Xyo4u8uXC1ZmMpatF05PJ'}, {'external_urls': {'spotify': 'https://open.spotify.com/artist/4tZwfgrHOc3mvqYlEYSvVi'}, 'href': 'https://api.spotify.com/v1/artists/4tZwfgrHOc3mvqYlEYSvVi', 'id': '4tZwfgrHOc3mvqYlEYSvVi', 'name': 'Daft Punk', 'type': 'artist', 'uri': 'spotify:artist:4tZwfgrHOc3mvqYlEYSvVi'}]\n",
      "[{'external_urls': {'spotify': 'https://open.spotify.com/artist/3TVXtAsR1Inumwj472S9r4'}, 'href': 'https://api.spotify.com/v1/artists/3TVXtAsR1Inumwj472S9r4', 'id': '3TVXtAsR1Inumwj472S9r4', 'name': 'Drake', 'type': 'artist', 'uri': 'spotify:artist:3TVXtAsR1Inumwj472S9r4'}]\n",
      "[{'external_urls': {'spotify': 'https://open.spotify.com/artist/3SozjO3Lat463tQICI9LcE'}, 'href': 'https://api.spotify.com/v1/artists/3SozjO3Lat463tQICI9LcE', 'id': '3SozjO3Lat463tQICI9LcE', 'name': 'Tyla', 'type': 'artist', 'uri': 'spotify:artist:3SozjO3Lat463tQICI9LcE'}]\n",
      "[{'external_urls': {'spotify': 'https://open.spotify.com/artist/40ZNYROS4zLfyyBSs2PGe2'}, 'href': 'https://api.spotify.com/v1/artists/40ZNYROS4zLfyyBSs2PGe2', 'id': '40ZNYROS4zLfyyBSs2PGe2', 'name': 'Zach Bryan', 'type': 'artist', 'uri': 'spotify:artist:40ZNYROS4zLfyyBSs2PGe2'}, {'external_urls': {'spotify': 'https://open.spotify.com/artist/70kkdajctXSbqSMJbQO424'}, 'href': 'https://api.spotify.com/v1/artists/70kkdajctXSbqSMJbQO424', 'id': '70kkdajctXSbqSMJbQO424', 'name': 'Kacey Musgraves', 'type': 'artist', 'uri': 'spotify:artist:70kkdajctXSbqSMJbQO424'}]\n",
      "[{'external_urls': {'spotify': 'https://open.spotify.com/artist/4zCH9qm4R2DADamUHMCa6O'}, 'href': 'https://api.spotify.com/v1/artists/4zCH9qm4R2DADamUHMCa6O', 'id': '4zCH9qm4R2DADamUHMCa6O', 'name': 'Anirudh Ravichander', 'type': 'artist', 'uri': 'spotify:artist:4zCH9qm4R2DADamUHMCa6O'}, {'external_urls': {'spotify': 'https://open.spotify.com/artist/4YRxDV8wJFPHPTeXepOstw'}, 'href': 'https://api.spotify.com/v1/artists/4YRxDV8wJFPHPTeXepOstw', 'id': '4YRxDV8wJFPHPTeXepOstw', 'name': 'Arijit Singh', 'type': 'artist', 'uri': 'spotify:artist:4YRxDV8wJFPHPTeXepOstw'}, {'external_urls': {'spotify': 'https://open.spotify.com/artist/19LIHDDSHBD5NyYHI3gpzB'}, 'href': 'https://api.spotify.com/v1/artists/19LIHDDSHBD5NyYHI3gpzB', 'id': '19LIHDDSHBD5NyYHI3gpzB', 'name': 'Shilpa Rao', 'type': 'artist', 'uri': 'spotify:artist:19LIHDDSHBD5NyYHI3gpzB'}, {'external_urls': {'spotify': 'https://open.spotify.com/artist/0m3D4grap8VFSzbJMqgNVk'}, 'href': 'https://api.spotify.com/v1/artists/0m3D4grap8VFSzbJMqgNVk', 'id': '0m3D4grap8VFSzbJMqgNVk', 'name': 'Kumaar', 'type': 'artist', 'uri': 'spotify:artist:0m3D4grap8VFSzbJMqgNVk'}]\n",
      "[{'external_urls': {'spotify': 'https://open.spotify.com/artist/716NhGYqD1jl2wI1Qkgq36'}, 'href': 'https://api.spotify.com/v1/artists/716NhGYqD1jl2wI1Qkgq36', 'id': '716NhGYqD1jl2wI1Qkgq36', 'name': 'Bizarrap', 'type': 'artist', 'uri': 'spotify:artist:716NhGYqD1jl2wI1Qkgq36'}, {'external_urls': {'spotify': 'https://open.spotify.com/artist/19HM5j0ULGSmEoRcrSe5x3'}, 'href': 'https://api.spotify.com/v1/artists/19HM5j0ULGSmEoRcrSe5x3', 'id': '19HM5j0ULGSmEoRcrSe5x3', 'name': 'Milo j', 'type': 'artist', 'uri': 'spotify:artist:19HM5j0ULGSmEoRcrSe5x3'}]\n",
      "[{'external_urls': {'spotify': 'https://open.spotify.com/artist/3JsHnjpbhX4SnySpvpa9DK'}, 'href': 'https://api.spotify.com/v1/artists/3JsHnjpbhX4SnySpvpa9DK', 'id': '3JsHnjpbhX4SnySpvpa9DK', 'name': 'V', 'type': 'artist', 'uri': 'spotify:artist:3JsHnjpbhX4SnySpvpa9DK'}]\n",
      "[{'external_urls': {'spotify': 'https://open.spotify.com/artist/1McMsnEElThX1knmY4oliG'}, 'href': 'https://api.spotify.com/v1/artists/1McMsnEElThX1knmY4oliG', 'id': '1McMsnEElThX1knmY4oliG', 'name': 'Olivia Rodrigo', 'type': 'artist', 'uri': 'spotify:artist:1McMsnEElThX1knmY4oliG'}]\n",
      "[{'external_urls': {'spotify': 'https://open.spotify.com/artist/06HL4z0CvFAxyc27GXpf02'}, 'href': 'https://api.spotify.com/v1/artists/06HL4z0CvFAxyc27GXpf02', 'id': '06HL4z0CvFAxyc27GXpf02', 'name': 'Taylor Swift', 'type': 'artist', 'uri': 'spotify:artist:06HL4z0CvFAxyc27GXpf02'}]\n",
      "[{'external_urls': {'spotify': 'https://open.spotify.com/artist/66ihevNkSYNzRAl44dx6jJ'}, 'href': 'https://api.spotify.com/v1/artists/66ihevNkSYNzRAl44dx6jJ', 'id': '66ihevNkSYNzRAl44dx6jJ', 'name': 'Carin Leon', 'type': 'artist', 'uri': 'spotify:artist:66ihevNkSYNzRAl44dx6jJ'}]\n",
      "[{'external_urls': {'spotify': 'https://open.spotify.com/artist/3TVXtAsR1Inumwj472S9r4'}, 'href': 'https://api.spotify.com/v1/artists/3TVXtAsR1Inumwj472S9r4', 'id': '3TVXtAsR1Inumwj472S9r4', 'name': 'Drake', 'type': 'artist', 'uri': 'spotify:artist:3TVXtAsR1Inumwj472S9r4'}]\n",
      "[{'external_urls': {'spotify': 'https://open.spotify.com/artist/06HL4z0CvFAxyc27GXpf02'}, 'href': 'https://api.spotify.com/v1/artists/06HL4z0CvFAxyc27GXpf02', 'id': '06HL4z0CvFAxyc27GXpf02', 'name': 'Taylor Swift', 'type': 'artist', 'uri': 'spotify:artist:06HL4z0CvFAxyc27GXpf02'}]\n",
      "[{'external_urls': {'spotify': 'https://open.spotify.com/artist/3TVXtAsR1Inumwj472S9r4'}, 'href': 'https://api.spotify.com/v1/artists/3TVXtAsR1Inumwj472S9r4', 'id': '3TVXtAsR1Inumwj472S9r4', 'name': 'Drake', 'type': 'artist', 'uri': 'spotify:artist:3TVXtAsR1Inumwj472S9r4'}]\n",
      "[{'external_urls': {'spotify': 'https://open.spotify.com/artist/1Xyo4u8uXC1ZmMpatF05PJ'}, 'href': 'https://api.spotify.com/v1/artists/1Xyo4u8uXC1ZmMpatF05PJ', 'id': '1Xyo4u8uXC1ZmMpatF05PJ', 'name': 'The Weeknd', 'type': 'artist', 'uri': 'spotify:artist:1Xyo4u8uXC1ZmMpatF05PJ'}]\n"
     ]
    }
   ],
   "source": [
    "artists_list = []\n",
    "for row in data['items']:\n",
    "    for key, value in row.items():\n",
    "        if key == \"track\":\n",
    "            for artist in value['artists']:\n",
    "                artist_dict = {'artist_id':artist['id'], 'artist_name':artist['name'], 'external_url':artist['href']}\n",
    "                artists_list.append(artist_dict)"
   ]
  },
  {
   "cell_type": "code",
   "execution_count": null,
   "metadata": {},
   "outputs": [],
   "source": []
  }
 ],
 "metadata": {
  "kernelspec": {
   "display_name": "venv",
   "language": "python",
   "name": "python3"
  },
  "language_info": {
   "codemirror_mode": {
    "name": "ipython",
    "version": 3
   },
   "file_extension": ".py",
   "mimetype": "text/x-python",
   "name": "python",
   "nbconvert_exporter": "python",
   "pygments_lexer": "ipython3",
   "version": "3.10.12"
  }
 },
 "nbformat": 4,
 "nbformat_minor": 2
}
