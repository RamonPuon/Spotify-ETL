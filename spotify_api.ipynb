{
 "cells": [
  {
   "cell_type": "code",
   "execution_count": 1,
   "metadata": {},
   "outputs": [],
   "source": [
    "import secret_id\n",
    "import pandas as pd\n",
    "import spotipy\n",
    "from spotipy.oauth2 import SpotifyClientCredentials"
   ]
  },
  {
   "cell_type": "code",
   "execution_count": 2,
   "metadata": {},
   "outputs": [],
   "source": [
    "client_credentials_manager = SpotifyClientCredentials(client_id=secret_id.CLIENT_ID, client_secret=secret_id.CLIENT_SECRET)"
   ]
  },
  {
   "cell_type": "code",
   "execution_count": 3,
   "metadata": {},
   "outputs": [],
   "source": [
    "sp = spotipy.Spotify(client_credentials_manager=client_credentials_manager)"
   ]
  },
  {
   "cell_type": "code",
   "execution_count": 4,
   "metadata": {},
   "outputs": [],
   "source": [
    "playlist_link = \"https://open.spotify.com/playlist/37i9dQZEVXbNG2KDcFcKOF\""
   ]
  },
  {
   "cell_type": "code",
   "execution_count": 5,
   "metadata": {},
   "outputs": [],
   "source": [
    "playlist_uri = playlist_link.split(\"/\")[-1]"
   ]
  },
  {
   "cell_type": "code",
   "execution_count": 6,
   "metadata": {},
   "outputs": [],
   "source": [
    "data = sp.playlist_tracks(playlist_uri)"
   ]
  },
  {
   "cell_type": "code",
   "execution_count": 7,
   "metadata": {},
   "outputs": [
    {
     "data": {
      "text/plain": [
       "'53985D8g3JcGBoULSOYYKX'"
      ]
     },
     "execution_count": 7,
     "metadata": {},
     "output_type": "execute_result"
    }
   ],
   "source": [
    "data[\"items\"][0][\"track\"]['album']['id']\n"
   ]
  },
  {
   "cell_type": "code",
   "execution_count": 15,
   "metadata": {},
   "outputs": [
    {
     "data": {
      "text/plain": [
       "'Seven (feat. Latto)'"
      ]
     },
     "execution_count": 15,
     "metadata": {},
     "output_type": "execute_result"
    }
   ],
   "source": [
    "data[\"items\"][0][\"track\"]['album']['name']"
   ]
  },
  {
   "cell_type": "code",
   "execution_count": 16,
   "metadata": {},
   "outputs": [
    {
     "data": {
      "text/plain": [
       "'2023-07-14'"
      ]
     },
     "execution_count": 16,
     "metadata": {},
     "output_type": "execute_result"
    }
   ],
   "source": [
    "data[\"items\"][0][\"track\"]['album']['release_date']"
   ]
  },
  {
   "cell_type": "code",
   "execution_count": 17,
   "metadata": {},
   "outputs": [
    {
     "data": {
      "text/plain": [
       "3"
      ]
     },
     "execution_count": 17,
     "metadata": {},
     "output_type": "execute_result"
    }
   ],
   "source": [
    "data[\"items\"][0][\"track\"]['album']['total_tracks']"
   ]
  },
  {
   "cell_type": "code",
   "execution_count": 19,
   "metadata": {},
   "outputs": [
    {
     "data": {
      "text/plain": [
       "'https://open.spotify.com/album/53985D8g3JcGBoULSOYYKX'"
      ]
     },
     "execution_count": 19,
     "metadata": {},
     "output_type": "execute_result"
    }
   ],
   "source": [
    "data[\"items\"][0][\"track\"]['album']['external_urls'][\"spotify\"]"
   ]
  },
  {
   "cell_type": "code",
   "execution_count": 21,
   "metadata": {},
   "outputs": [],
   "source": [
    "album_list = []\n",
    "for row in data[\"items\"]:\n",
    "    album_id = row[\"track\"]['album']['id']\n",
    "    album_name = row[\"track\"]['album']['name']\n",
    "    album_release_date = row[\"track\"]['album']['release_date']\n",
    "    album_total_tracks = row[\"track\"]['album']['total_tracks']\n",
    "    album_url = row[\"track\"]['album']['external_urls'][\"spotify\"]\n",
    "    album_elements = {'album_id':album_id, 'album_name':album_name, 'album_release_date':album_release_date, 'album_total_tracks':album_total_tracks, 'album_url':album_url}\n",
    "    album_list.append(album_elements)"
   ]
  },
  {
   "cell_type": "code",
   "execution_count": 22,
   "metadata": {},
   "outputs": [
    {
     "data": {
      "text/plain": [
       "[{'album_id': '53985D8g3JcGBoULSOYYKX',\n",
       "  'album_name': 'Seven (feat. Latto)',\n",
       "  'album_release_date': '2023-07-14',\n",
       "  'album_total_tracks': 3,\n",
       "  'album_url': 'https://open.spotify.com/album/53985D8g3JcGBoULSOYYKX'},\n",
       " {'album_id': '1bBez9PNvkJPW08bU7NYta',\n",
       "  'album_name': 'Scarlet',\n",
       "  'album_release_date': '2023-09-20',\n",
       "  'album_total_tracks': 15,\n",
       "  'album_url': 'https://open.spotify.com/album/1bBez9PNvkJPW08bU7NYta'},\n",
       " {'album_id': '3UOV8XvCwMKaATRNXrYCjN',\n",
       "  'album_name': 'greedy',\n",
       "  'album_release_date': '2023-09-15',\n",
       "  'album_total_tracks': 1,\n",
       "  'album_url': 'https://open.spotify.com/album/3UOV8XvCwMKaATRNXrYCjN'},\n",
       " {'album_id': '0fJ0beklzFwoBv01U8792s',\n",
       "  'album_name': '3D : The Remixes',\n",
       "  'album_release_date': '2023-10-02',\n",
       "  'album_total_tracks': 7,\n",
       "  'album_url': 'https://open.spotify.com/album/0fJ0beklzFwoBv01U8792s'},\n",
       " {'album_id': '4czdORdCWP9umpbhFXK2fW',\n",
       "  'album_name': 'For All The Dogs',\n",
       "  'album_release_date': '2023-10-06',\n",
       "  'album_total_tracks': 23,\n",
       "  'album_url': 'https://open.spotify.com/album/4czdORdCWP9umpbhFXK2fW'},\n",
       " {'album_id': '4czdORdCWP9umpbhFXK2fW',\n",
       "  'album_name': 'For All The Dogs',\n",
       "  'album_release_date': '2023-10-06',\n",
       "  'album_total_tracks': 23,\n",
       "  'album_url': 'https://open.spotify.com/album/4czdORdCWP9umpbhFXK2fW'},\n",
       " {'album_id': '66k6EGkPtYoN44anGIsEPW',\n",
       "  'album_name': 'Si No Estás',\n",
       "  'album_release_date': '2022-09-23',\n",
       "  'album_total_tracks': 1,\n",
       "  'album_url': 'https://open.spotify.com/album/66k6EGkPtYoN44anGIsEPW'},\n",
       " {'album_id': '18ogtNq9F7DmMkNYO6Xb4k',\n",
       "  'album_name': 'Strangers',\n",
       "  'album_release_date': '2023-09-01',\n",
       "  'album_total_tracks': 1,\n",
       "  'album_url': 'https://open.spotify.com/album/18ogtNq9F7DmMkNYO6Xb4k'},\n",
       " {'album_id': '1NAmidJlEaVgA3MpcPFYGq',\n",
       "  'album_name': 'Lover',\n",
       "  'album_release_date': '2019-08-23',\n",
       "  'album_total_tracks': 18,\n",
       "  'album_url': 'https://open.spotify.com/album/1NAmidJlEaVgA3MpcPFYGq'},\n",
       " {'album_id': '0FqAaUEyKCyUNFE1uQPZ7i',\n",
       "  'album_name': 'MAÑANA SERÁ BONITO (BICHOTA SEASON)',\n",
       "  'album_release_date': '2023-08-10',\n",
       "  'album_total_tracks': 9,\n",
       "  'album_url': 'https://open.spotify.com/album/0FqAaUEyKCyUNFE1uQPZ7i'},\n",
       " {'album_id': '4czdORdCWP9umpbhFXK2fW',\n",
       "  'album_name': 'For All The Dogs',\n",
       "  'album_release_date': '2023-10-06',\n",
       "  'album_total_tracks': 23,\n",
       "  'album_url': 'https://open.spotify.com/album/4czdORdCWP9umpbhFXK2fW'},\n",
       " {'album_id': '3puAvurwvtvi1rodndIPW8',\n",
       "  'album_name': 'LA VIDA ES UNA',\n",
       "  'album_release_date': '2023-03-23',\n",
       "  'album_total_tracks': 23,\n",
       "  'album_url': 'https://open.spotify.com/album/3puAvurwvtvi1rodndIPW8'},\n",
       " {'album_id': '5NwbUP5QkkMndzwJp9kkxr',\n",
       "  'album_name': 'Milo J: Bzrp Music Sessions, Vol. 57',\n",
       "  'album_release_date': '2023-10-03',\n",
       "  'album_total_tracks': 1,\n",
       "  'album_url': 'https://open.spotify.com/album/5NwbUP5QkkMndzwJp9kkxr'},\n",
       " {'album_id': '4czdORdCWP9umpbhFXK2fW',\n",
       "  'album_name': 'For All The Dogs',\n",
       "  'album_release_date': '2023-10-06',\n",
       "  'album_total_tracks': 23,\n",
       "  'album_url': 'https://open.spotify.com/album/4czdORdCWP9umpbhFXK2fW'},\n",
       " {'album_id': '4czdORdCWP9umpbhFXK2fW',\n",
       "  'album_name': 'For All The Dogs',\n",
       "  'album_release_date': '2023-10-06',\n",
       "  'album_total_tracks': 23,\n",
       "  'album_url': 'https://open.spotify.com/album/4czdORdCWP9umpbhFXK2fW'},\n",
       " {'album_id': '4czdORdCWP9umpbhFXK2fW',\n",
       "  'album_name': 'For All The Dogs',\n",
       "  'album_release_date': '2023-10-06',\n",
       "  'album_total_tracks': 23,\n",
       "  'album_url': 'https://open.spotify.com/album/4czdORdCWP9umpbhFXK2fW'},\n",
       " {'album_id': '2Cn1d2KgbkAqbZCJ1RzdkA',\n",
       "  'album_name': 'The Land Is Inhospitable and So Are We',\n",
       "  'album_release_date': '2023-09-15',\n",
       "  'album_total_tracks': 11,\n",
       "  'album_url': 'https://open.spotify.com/album/2Cn1d2KgbkAqbZCJ1RzdkA'},\n",
       " {'album_id': '72GhGik5fsSeFkgpjsllVj',\n",
       "  'album_name': 'UN PREVIEW',\n",
       "  'album_release_date': '2023-09-25',\n",
       "  'album_total_tracks': 1,\n",
       "  'album_url': 'https://open.spotify.com/album/72GhGik5fsSeFkgpjsllVj'},\n",
       " {'album_id': '1xJHno7SmdVtZAtXbdbDZp',\n",
       "  'album_name': 'GUTS',\n",
       "  'album_release_date': '2023-09-08',\n",
       "  'album_total_tracks': 12,\n",
       "  'album_url': 'https://open.spotify.com/album/1xJHno7SmdVtZAtXbdbDZp'},\n",
       " {'album_id': '4czdORdCWP9umpbhFXK2fW',\n",
       "  'album_name': 'For All The Dogs',\n",
       "  'album_release_date': '2023-10-06',\n",
       "  'album_total_tracks': 23,\n",
       "  'album_url': 'https://open.spotify.com/album/4czdORdCWP9umpbhFXK2fW'},\n",
       " {'album_id': '4czdORdCWP9umpbhFXK2fW',\n",
       "  'album_name': 'For All The Dogs',\n",
       "  'album_release_date': '2023-10-06',\n",
       "  'album_total_tracks': 23,\n",
       "  'album_url': 'https://open.spotify.com/album/4czdORdCWP9umpbhFXK2fW'},\n",
       " {'album_id': '78bpIziExqiI9qztvNFlQu',\n",
       "  'album_name': 'AM',\n",
       "  'album_release_date': '2013-09-09',\n",
       "  'album_total_tracks': 12,\n",
       "  'album_url': 'https://open.spotify.com/album/78bpIziExqiI9qztvNFlQu'},\n",
       " {'album_id': '07kam1Dks7GIucbSelfvyX',\n",
       "  'album_name': 'Columbia',\n",
       "  'album_release_date': '2023-07-07',\n",
       "  'album_total_tracks': 1,\n",
       "  'album_url': 'https://open.spotify.com/album/07kam1Dks7GIucbSelfvyX'},\n",
       " {'album_id': '4jox3ip1I39DFC2B7R5qLH',\n",
       "  'album_name': 'GÉNESIS',\n",
       "  'album_release_date': '2023-06-29',\n",
       "  'album_total_tracks': 17,\n",
       "  'album_url': 'https://open.spotify.com/album/4jox3ip1I39DFC2B7R5qLH'},\n",
       " {'album_id': '5qmZefgh78fN3jsyPPlvuw',\n",
       "  'album_name': 'a Gift & a Curse',\n",
       "  'album_release_date': '2023-06-16',\n",
       "  'album_total_tracks': 15,\n",
       "  'album_url': 'https://open.spotify.com/album/5qmZefgh78fN3jsyPPlvuw'},\n",
       " {'album_id': '3AafSrFIbJPH6BJHiJm1Cd',\n",
       "  'album_name': 'What Was I Made For? [From The Motion Picture \"Barbie\"]',\n",
       "  'album_release_date': '2023-07-13',\n",
       "  'album_total_tracks': 1,\n",
       "  'album_url': 'https://open.spotify.com/album/3AafSrFIbJPH6BJHiJm1Cd'},\n",
       " {'album_id': '5cH7FqB7JD5q1tJXJ7FHYu',\n",
       "  'album_name': 'Dance The Night (From Barbie The Album)',\n",
       "  'album_release_date': '2023-05-25',\n",
       "  'album_total_tracks': 1,\n",
       "  'album_url': 'https://open.spotify.com/album/5cH7FqB7JD5q1tJXJ7FHYu'},\n",
       " {'album_id': '4czdORdCWP9umpbhFXK2fW',\n",
       "  'album_name': 'For All The Dogs',\n",
       "  'album_release_date': '2023-10-06',\n",
       "  'album_total_tracks': 23,\n",
       "  'album_url': 'https://open.spotify.com/album/4czdORdCWP9umpbhFXK2fW'},\n",
       " {'album_id': '4czdORdCWP9umpbhFXK2fW',\n",
       "  'album_name': 'For All The Dogs',\n",
       "  'album_release_date': '2023-10-06',\n",
       "  'album_total_tracks': 23,\n",
       "  'album_url': 'https://open.spotify.com/album/4czdORdCWP9umpbhFXK2fW'},\n",
       " {'album_id': '3Fk8yQvPlCHgwR2pNhEIRA',\n",
       "  'album_name': 'Don Juan',\n",
       "  'album_release_date': '2023-08-25',\n",
       "  'album_total_tracks': 25,\n",
       "  'album_url': 'https://open.spotify.com/album/3Fk8yQvPlCHgwR2pNhEIRA'},\n",
       " {'album_id': '6NcI39WPu4kY6Tul11nhSv',\n",
       "  'album_name': 'Daylight',\n",
       "  'album_release_date': '2023-04-14',\n",
       "  'album_total_tracks': 1,\n",
       "  'album_url': 'https://open.spotify.com/album/6NcI39WPu4kY6Tul11nhSv'},\n",
       " {'album_id': '4x6cjOcVz44aiLSOHCLKPd',\n",
       "  'album_name': 'Que Onda',\n",
       "  'album_release_date': '2023-08-30',\n",
       "  'album_total_tracks': 1,\n",
       "  'album_url': 'https://open.spotify.com/album/4x6cjOcVz44aiLSOHCLKPd'},\n",
       " {'album_id': '5MU0RmBSpoSxOPYBfcobDc',\n",
       "  'album_name': 'Prada',\n",
       "  'album_release_date': '2023-08-11',\n",
       "  'album_total_tracks': 1,\n",
       "  'album_url': 'https://open.spotify.com/album/5MU0RmBSpoSxOPYBfcobDc'},\n",
       " {'album_id': '5r36AJ6VOJtp00oxSkBZ5h',\n",
       "  'album_name': \"Harry's House\",\n",
       "  'album_release_date': '2022-05-20',\n",
       "  'album_total_tracks': 13,\n",
       "  'album_url': 'https://open.spotify.com/album/5r36AJ6VOJtp00oxSkBZ5h'},\n",
       " {'album_id': '4czdORdCWP9umpbhFXK2fW',\n",
       "  'album_name': 'For All The Dogs',\n",
       "  'album_release_date': '2023-10-06',\n",
       "  'album_total_tracks': 23,\n",
       "  'album_url': 'https://open.spotify.com/album/4czdORdCWP9umpbhFXK2fW'},\n",
       " {'album_id': '1nrVofqDRs7cpWXJ49qTnP',\n",
       "  'album_name': 'SOS',\n",
       "  'album_release_date': '2022-12-08',\n",
       "  'album_total_tracks': 23,\n",
       "  'album_url': 'https://open.spotify.com/album/1nrVofqDRs7cpWXJ49qTnP'},\n",
       " {'album_id': '2ODvWsOgouMbaA5xf0RkJe',\n",
       "  'album_name': 'Starboy',\n",
       "  'album_release_date': '2016-11-25',\n",
       "  'album_total_tracks': 18,\n",
       "  'album_url': 'https://open.spotify.com/album/2ODvWsOgouMbaA5xf0RkJe'},\n",
       " {'album_id': '4czdORdCWP9umpbhFXK2fW',\n",
       "  'album_name': 'For All The Dogs',\n",
       "  'album_release_date': '2023-10-06',\n",
       "  'album_total_tracks': 23,\n",
       "  'album_url': 'https://open.spotify.com/album/4czdORdCWP9umpbhFXK2fW'},\n",
       " {'album_id': '22sXXkKgjEuawIFL1e1tRw',\n",
       "  'album_name': 'Water',\n",
       "  'album_release_date': '2023-07-28',\n",
       "  'album_total_tracks': 1,\n",
       "  'album_url': 'https://open.spotify.com/album/22sXXkKgjEuawIFL1e1tRw'},\n",
       " {'album_id': '6PbnGueEO6LGodPfvNldYf',\n",
       "  'album_name': 'Zach Bryan',\n",
       "  'album_release_date': '2023-08-25',\n",
       "  'album_total_tracks': 16,\n",
       "  'album_url': 'https://open.spotify.com/album/6PbnGueEO6LGodPfvNldYf'},\n",
       " {'album_id': '3WLJmMZUeDOuERFAk1Mxs6',\n",
       "  'album_name': 'Jawan',\n",
       "  'album_release_date': '2023-09-05',\n",
       "  'album_total_tracks': 7,\n",
       "  'album_url': 'https://open.spotify.com/album/3WLJmMZUeDOuERFAk1Mxs6'},\n",
       " {'album_id': '4NMv3cMkDwkkR6EdLloQDB',\n",
       "  'album_name': 'en dormir sin Madrid',\n",
       "  'album_release_date': '2023-10-04',\n",
       "  'album_total_tracks': 5,\n",
       "  'album_url': 'https://open.spotify.com/album/4NMv3cMkDwkkR6EdLloQDB'},\n",
       " {'album_id': '7ixOAT89NSsgUITYc5ByB5',\n",
       "  'album_name': 'Layover',\n",
       "  'album_release_date': '2023-09-08',\n",
       "  'album_total_tracks': 6,\n",
       "  'album_url': 'https://open.spotify.com/album/7ixOAT89NSsgUITYc5ByB5'},\n",
       " {'album_id': '1xJHno7SmdVtZAtXbdbDZp',\n",
       "  'album_name': 'GUTS',\n",
       "  'album_release_date': '2023-09-08',\n",
       "  'album_total_tracks': 12,\n",
       "  'album_url': 'https://open.spotify.com/album/1xJHno7SmdVtZAtXbdbDZp'},\n",
       " {'album_id': '2QJmrSgbdM35R67eoGQo4j',\n",
       "  'album_name': '1989',\n",
       "  'album_release_date': '2014-10-27',\n",
       "  'album_total_tracks': 13,\n",
       "  'album_url': 'https://open.spotify.com/album/2QJmrSgbdM35R67eoGQo4j'},\n",
       " {'album_id': '52PtAAvfi8ZGTRK5c700y4',\n",
       "  'album_name': 'Colmillo De Leche',\n",
       "  'album_release_date': '2023-05-19',\n",
       "  'album_total_tracks': 18,\n",
       "  'album_url': 'https://open.spotify.com/album/52PtAAvfi8ZGTRK5c700y4'},\n",
       " {'album_id': '4czdORdCWP9umpbhFXK2fW',\n",
       "  'album_name': 'For All The Dogs',\n",
       "  'album_release_date': '2023-10-06',\n",
       "  'album_total_tracks': 23,\n",
       "  'album_url': 'https://open.spotify.com/album/4czdORdCWP9umpbhFXK2fW'},\n",
       " {'album_id': '2QJmrSgbdM35R67eoGQo4j',\n",
       "  'album_name': '1989',\n",
       "  'album_release_date': '2014-10-27',\n",
       "  'album_total_tracks': 13,\n",
       "  'album_url': 'https://open.spotify.com/album/2QJmrSgbdM35R67eoGQo4j'},\n",
       " {'album_id': '4czdORdCWP9umpbhFXK2fW',\n",
       "  'album_name': 'For All The Dogs',\n",
       "  'album_release_date': '2023-10-06',\n",
       "  'album_total_tracks': 23,\n",
       "  'album_url': 'https://open.spotify.com/album/4czdORdCWP9umpbhFXK2fW'},\n",
       " {'album_id': '4AdZV63ycxFLF6Hcol0QnB',\n",
       "  'album_name': 'Starboy',\n",
       "  'album_release_date': '2016-11-24',\n",
       "  'album_total_tracks': 18,\n",
       "  'album_url': 'https://open.spotify.com/album/4AdZV63ycxFLF6Hcol0QnB'}]"
      ]
     },
     "execution_count": 22,
     "metadata": {},
     "output_type": "execute_result"
    }
   ],
   "source": [
    "album_list"
   ]
  },
  {
   "cell_type": "code",
   "execution_count": 28,
   "metadata": {},
   "outputs": [
    {
     "data": {
      "text/plain": [
       "[{'external_urls': {'spotify': 'https://open.spotify.com/artist/6HaGTQPmzraVmaVxvz6EUc'},\n",
       "  'href': 'https://api.spotify.com/v1/artists/6HaGTQPmzraVmaVxvz6EUc',\n",
       "  'id': '6HaGTQPmzraVmaVxvz6EUc',\n",
       "  'name': 'Jung Kook',\n",
       "  'type': 'artist',\n",
       "  'uri': 'spotify:artist:6HaGTQPmzraVmaVxvz6EUc'},\n",
       " {'external_urls': {'spotify': 'https://open.spotify.com/artist/3MdXrJWsbVzdn6fe5JYkSQ'},\n",
       "  'href': 'https://api.spotify.com/v1/artists/3MdXrJWsbVzdn6fe5JYkSQ',\n",
       "  'id': '3MdXrJWsbVzdn6fe5JYkSQ',\n",
       "  'name': 'Latto',\n",
       "  'type': 'artist',\n",
       "  'uri': 'spotify:artist:3MdXrJWsbVzdn6fe5JYkSQ'}]"
      ]
     },
     "execution_count": 28,
     "metadata": {},
     "output_type": "execute_result"
    }
   ],
   "source": [
    "data['items'][0]['track']['artists']"
   ]
  },
  {
   "cell_type": "code",
   "execution_count": 31,
   "metadata": {},
   "outputs": [],
   "source": [
    "artists_list = []\n",
    "for row in data['items']:\n",
    "    for key, value in row.items():\n",
    "        if key == \"track\":\n",
    "            for artist in value['artists']:\n",
    "                artist_dict = {'artist_id':artist['id'], 'artist_name':artist['name'], 'external_url':artist['href']}\n",
    "                artists_list.append(artist_dict)"
   ]
  },
  {
   "cell_type": "code",
   "execution_count": 33,
   "metadata": {},
   "outputs": [],
   "source": [
    "song_list = []\n",
    "for row in data['items']:\n",
    "    song_id = row['track']['id']\n",
    "    song_name = row['track']['name']\n",
    "    song_duration = row['track']['duration_ms']\n",
    "    song_url = row['track']['external_urls']['spotify']\n",
    "    song_popularity = row['track']['popularity']\n",
    "    song_added = row['added_at']\n",
    "    album_id = row['track']['album']['id']\n",
    "    artist_id = row['track']['album']['artists'][0]['id']\n",
    "    song_elements = {'song_id':song_id, 'song_name':song_name, 'song_duration':song_duration, 'song_url':song_url, 'song_popularity':song_popularity, 'song_added':song_added, 'album_id':album_id, 'artist_id':artist_id}\n",
    "    song_list.append(song_elements)"
   ]
  },
  {
   "cell_type": "code",
   "execution_count": 35,
   "metadata": {},
   "outputs": [],
   "source": [
    "album_df = pd.DataFrame.from_dict(album_list)\n"
   ]
  },
  {
   "cell_type": "code",
   "execution_count": 37,
   "metadata": {},
   "outputs": [],
   "source": [
    "album_df.drop_duplicates(subset=['album_id'], inplace=True)"
   ]
  },
  {
   "cell_type": "code",
   "execution_count": 38,
   "metadata": {},
   "outputs": [],
   "source": [
    "artist_df = pd.DataFrame.from_dict(artists_list)\n",
    "artist_df.drop_duplicates(subset=['artist_id'], inplace=True)"
   ]
  },
  {
   "cell_type": "code",
   "execution_count": 39,
   "metadata": {},
   "outputs": [],
   "source": [
    "song_df = pd.DataFrame.from_dict(song_list)\n"
   ]
  },
  {
   "cell_type": "code",
   "execution_count": 41,
   "metadata": {},
   "outputs": [
    {
     "data": {
      "text/html": [
       "<div>\n",
       "<style scoped>\n",
       "    .dataframe tbody tr th:only-of-type {\n",
       "        vertical-align: middle;\n",
       "    }\n",
       "\n",
       "    .dataframe tbody tr th {\n",
       "        vertical-align: top;\n",
       "    }\n",
       "\n",
       "    .dataframe thead th {\n",
       "        text-align: right;\n",
       "    }\n",
       "</style>\n",
       "<table border=\"1\" class=\"dataframe\">\n",
       "  <thead>\n",
       "    <tr style=\"text-align: right;\">\n",
       "      <th></th>\n",
       "      <th>album_id</th>\n",
       "      <th>album_name</th>\n",
       "      <th>album_release_date</th>\n",
       "      <th>album_total_tracks</th>\n",
       "      <th>album_url</th>\n",
       "    </tr>\n",
       "  </thead>\n",
       "  <tbody>\n",
       "    <tr>\n",
       "      <th>0</th>\n",
       "      <td>53985D8g3JcGBoULSOYYKX</td>\n",
       "      <td>Seven (feat. Latto)</td>\n",
       "      <td>2023-07-14</td>\n",
       "      <td>3</td>\n",
       "      <td>https://open.spotify.com/album/53985D8g3JcGBoU...</td>\n",
       "    </tr>\n",
       "    <tr>\n",
       "      <th>1</th>\n",
       "      <td>1bBez9PNvkJPW08bU7NYta</td>\n",
       "      <td>Scarlet</td>\n",
       "      <td>2023-09-20</td>\n",
       "      <td>15</td>\n",
       "      <td>https://open.spotify.com/album/1bBez9PNvkJPW08...</td>\n",
       "    </tr>\n",
       "    <tr>\n",
       "      <th>2</th>\n",
       "      <td>3UOV8XvCwMKaATRNXrYCjN</td>\n",
       "      <td>greedy</td>\n",
       "      <td>2023-09-15</td>\n",
       "      <td>1</td>\n",
       "      <td>https://open.spotify.com/album/3UOV8XvCwMKaATR...</td>\n",
       "    </tr>\n",
       "    <tr>\n",
       "      <th>3</th>\n",
       "      <td>0fJ0beklzFwoBv01U8792s</td>\n",
       "      <td>3D : The Remixes</td>\n",
       "      <td>2023-10-02</td>\n",
       "      <td>7</td>\n",
       "      <td>https://open.spotify.com/album/0fJ0beklzFwoBv0...</td>\n",
       "    </tr>\n",
       "    <tr>\n",
       "      <th>4</th>\n",
       "      <td>4czdORdCWP9umpbhFXK2fW</td>\n",
       "      <td>For All The Dogs</td>\n",
       "      <td>2023-10-06</td>\n",
       "      <td>23</td>\n",
       "      <td>https://open.spotify.com/album/4czdORdCWP9umpb...</td>\n",
       "    </tr>\n",
       "  </tbody>\n",
       "</table>\n",
       "</div>"
      ],
      "text/plain": [
       "                 album_id           album_name album_release_date  \\\n",
       "0  53985D8g3JcGBoULSOYYKX  Seven (feat. Latto)         2023-07-14   \n",
       "1  1bBez9PNvkJPW08bU7NYta              Scarlet         2023-09-20   \n",
       "2  3UOV8XvCwMKaATRNXrYCjN               greedy         2023-09-15   \n",
       "3  0fJ0beklzFwoBv01U8792s     3D : The Remixes         2023-10-02   \n",
       "4  4czdORdCWP9umpbhFXK2fW     For All The Dogs         2023-10-06   \n",
       "\n",
       "   album_total_tracks                                          album_url  \n",
       "0                   3  https://open.spotify.com/album/53985D8g3JcGBoU...  \n",
       "1                  15  https://open.spotify.com/album/1bBez9PNvkJPW08...  \n",
       "2                   1  https://open.spotify.com/album/3UOV8XvCwMKaATR...  \n",
       "3                   7  https://open.spotify.com/album/0fJ0beklzFwoBv0...  \n",
       "4                  23  https://open.spotify.com/album/4czdORdCWP9umpb...  "
      ]
     },
     "execution_count": 41,
     "metadata": {},
     "output_type": "execute_result"
    }
   ],
   "source": [
    "album_df.head()"
   ]
  },
  {
   "cell_type": "code",
   "execution_count": 42,
   "metadata": {},
   "outputs": [],
   "source": [
    "album_df['album_release_date'] = pd.to_datetime(album_df['album_release_date'])\n",
    "song_df['song_added'] =  pd.to_datetime(song_df['song_added'])\n"
   ]
  },
  {
   "cell_type": "code",
   "execution_count": null,
   "metadata": {},
   "outputs": [],
   "source": []
  }
 ],
 "metadata": {
  "kernelspec": {
   "display_name": "venv",
   "language": "python",
   "name": "python3"
  },
  "language_info": {
   "codemirror_mode": {
    "name": "ipython",
    "version": 3
   },
   "file_extension": ".py",
   "mimetype": "text/x-python",
   "name": "python",
   "nbconvert_exporter": "python",
   "pygments_lexer": "ipython3",
   "version": "3.10.12"
  }
 },
 "nbformat": 4,
 "nbformat_minor": 2
}
